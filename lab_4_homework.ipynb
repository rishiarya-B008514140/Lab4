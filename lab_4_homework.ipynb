{
 "cells": [
  {
   "cell_type": "code",
   "execution_count": 1,
   "metadata": {},
   "outputs": [
    {
     "output_type": "stream",
     "name": "stdout",
     "text": "The words that are not listed from the book \" avakaya.txt \" and words.txt are : 3079\nThe words that are not listed from the book \" biryani.txt \" and words.txt are : 10367\nThe words that are not listed from the book \" chandamama_kathalu.txt \" and words.txt are : 7517\nThe words that are not listed from the book \" chillar.txt \" and words.txt are : 8731\nThe words that are not listed from the book \" chinthapandu.txt \" and words.txt are : 8567\nThe words that are not listed from the book \" daivathvam.txt \" and words.txt are : 11592\n"
    }
   ],
   "source": [
    "# This function takes the book as parameter and and splits the lines into words. in the if it checks with the punctuationa and removes the punctuation, once the char removes the punctuation it converts into lower and appends it to the  new list and returns it back\n",
    "\n",
    "import string\n",
    "\n",
    "def clean(book):\n",
    "    lis = list()\n",
    "    for i in book:\n",
    "        char = \"\"\n",
    "        for x in i:\n",
    "            if (x not in string.punctuation):\n",
    "                char = char + x\n",
    "            else:\n",
    "                continue\n",
    "        lis.append(char.lower())\n",
    "    return lis\n",
    "def main():\n",
    "    book_list = ['avakaya.txt', 'biryani.txt', 'chandamama_kathalu.txt', 'chillar.txt', 'chinthapandu.txt', 'daivathvam.txt']\n",
    "    word_list = 'words.txt'\n",
    "    for f in book_list:\n",
    "        x = open(f)\n",
    "        book = x.read().split()\n",
    "        book_words_list = set(clean(book))\n",
    "        word_list_split = set([x for x in open(word_list, 'r')])\n",
    "        print(\"The words that are not listed from the book\",\"\\\"\",f,\"\\\"\" \" and\", word_list, \"are :\",(len(book_words_list - word_list_split)))\n",
    "        \n",
    "main()\n"
   ]
  },
  {
   "cell_type": "code",
   "execution_count": null,
   "metadata": {},
   "outputs": [],
   "source": [
    "import os\n",
    "\n",
    "def get_mp3_files(dirname):\n",
    "    mp3_files = []\n",
    "    for root, dirs, files in os.walk(dirname):\n",
    "        for filename in files:\n",
    "            if filename[-4:] == \".mp3\":\n",
    "                mp3_files.append(os.path.join(root, filename))\n",
    "    return mp3_files\n",
    "\n",
    "\n",
    "def check_duplicates(list_files):\n",
    "    checksum_dict = {}\n",
    "\n",
    "    for a_file in list_files:\n",
    "        checksum = os.open('md5sum ' + a_file)\n",
    "        res = checksum.read()\n",
    "        checksum.close()\n",
    "\n",
    "        if res in checksum_dict:\n",
    "            print(\"There's a duplicate!\")\n",
    "            print a_file + \" \\ \" + checksum_dict[res]\n",
    "        else:\n",
    "            checksum_dict[res] = a_file"
   ]
  },
  {
   "cell_type": "code",
   "execution_count": null,
   "metadata": {},
   "outputs": [],
   "source": []
  }
 ],
 "metadata": {
  "language_info": {
   "codemirror_mode": {
    "name": "ipython",
    "version": 3
   },
   "file_extension": ".py",
   "mimetype": "text/x-python",
   "name": "python",
   "nbconvert_exporter": "python",
   "pygments_lexer": "ipython3",
   "version": "3.8.1-final"
  },
  "orig_nbformat": 2,
  "kernelspec": {
   "name": "python38164bit8081a11a70df49239e80390d03ac8399",
   "display_name": "Python 3.8.1 64-bit"
  }
 },
 "nbformat": 4,
 "nbformat_minor": 2
}