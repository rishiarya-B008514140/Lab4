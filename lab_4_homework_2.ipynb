{
 "cells": [
  {
   "cell_type": "code",
   "execution_count": null,
   "metadata": {},
   "outputs": [],
   "source": [
    "import os\n",
    "\n",
    "def get_mp3_files(dirname):\n",
    "    mp3_files = []\n",
    "    for root, dirs, files in os.walk(dirname):\n",
    "        for filename in files:\n",
    "            if filename[-4:] == \".mp3\":\n",
    "                mp3_files.append(os.path.join(root, filename))\n",
    "    return mp3_files\n",
    "\n",
    "\n",
    "def check_duplicates(list_files):\n",
    "    checksum_dict = {}\n",
    "\n",
    "    for a_file in list_files:\n",
    "        checksum = os.open('md5sum ' + a_file)\n",
    "        res = checksum.read()\n",
    "        checksum.close()\n",
    "\n",
    "        if res in checksum_dict:\n",
    "            print \"There's a duplicate!\"\n",
    "            print a_file + \" \\ \" + checksum_dict[res]\n",
    "        else:\n",
    "            checksum_dict[res] = a_file"
   ]
  }
 ],
 "metadata": {
  "language_info": {
   "codemirror_mode": {
    "name": "ipython",
    "version": 3
   },
   "file_extension": ".py",
   "mimetype": "text/x-python",
   "name": "python",
   "nbconvert_exporter": "python",
   "pygments_lexer": "ipython3",
   "version": 3
  },
  "orig_nbformat": 2
 },
 "nbformat": 4,
 "nbformat_minor": 2
}